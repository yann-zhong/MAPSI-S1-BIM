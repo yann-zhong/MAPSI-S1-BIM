{
 "cells": [
  {
   "cell_type": "markdown",
   "metadata": {},
   "source": [
    "# Apprentissage de paramètres par maximum de vraisemblance\n",
    "Dans ce TME, l'objectif est d'apprendre grâce à l'estimateur de maximum de vraisemblance les paramètres de lois normales à partir d'un ensemble de données. Ces lois normales seront ensuite exploitées pour faire de la classification (comme nous l'avions vu en cours avec les images de désert, forêt, mer et paysages enneigés).\n",
    "\n",
    "Ici, notre base de données d'apprentissage est la base USPS. Celle-ci contient les images réelles de chiffres provenant de codes postaux écrits manuellement et scannés par le service des postes américain. Ces données scannées ont été normalisées de manière à ce qu'elles soient toutes des images de 16x16 pixels en teintes de gris, cf. Le Cun et al., 1990:\n",
    "\n",
    "Y. LeCun, O. Matan, B. Boser, J. S. Denker, et al. (1990) *Handwritten zip code recognition with multilayer networks*. In ICPR, volume II, pages 35–40.\n",
    "\n",
    "Voici quelques exemples d'images de cette base : \n",
    "\n",
    "<img src=\"usps.png\" title=\"Quelques exemples\">\n"
   ]
  },
  {
   "cell_type": "code",
   "execution_count": 2,
   "metadata": {},
   "outputs": [],
   "source": [
    "import numpy as np\n",
    "import matplotlib.pyplot as plt\n",
    "import pickle as pkl\n",
    "import math"
   ]
  },
  {
   "cell_type": "markdown",
   "metadata": {},
   "source": [
    "## Chargement des données et premières visualisations\n",
    "\n",
    "Nous utiliserons la librairie pickle qui permet de sérialiser les objets en python (ie, les sauver et les charger très facilement).\n",
    "Une fois les données chargées, nous allons étudier très rapidement la distribution des classes, visualiser une imagette de chiffre et comprendre l'encodage de ces chiffres."
   ]
  },
  {
   "cell_type": "code",
   "execution_count": 3,
   "metadata": {},
   "outputs": [
    {
     "data": {
      "text/plain": [
       "(array([488., 412., 311., 260., 306., 244., 261., 282., 224., 281.]),\n",
       " array([-0.5,  0.5,  1.5,  2.5,  3.5,  4.5,  5.5,  6.5,  7.5,  8.5,  9.5]),\n",
       " <a list of 10 Patch objects>)"
      ]
     },
     "execution_count": 3,
     "metadata": {},
     "output_type": "execute_result"
    },
    {
     "data": {
      "image/png": "[encoded data removed]",
      "text/plain": [
       "<Figure size 432x288 with 1 Axes>"
      ]
     },
     "metadata": {
      "needs_background": "light"
     },
     "output_type": "display_data"
    }
   ],
   "source": [
    "# Chargement des données\n",
    "data = pkl.load(open(\"usps.pkl\",'rb')) \n",
    "# data est un dictionnaire contenant les champs explicites X_train, X_test, Y_train, Y_test\n",
    "X_train = np.array(data[\"X_train\"],dtype=float) # changement de type pour éviter les problèmes d'affichage\n",
    "X_test = np.array(data[\"X_test\"],dtype=float)\n",
    "Y_train = data[\"Y_train\"]\n",
    "Y_test = data[\"Y_test\"]\n",
    "\n",
    "# visualisation de la distribution des étiquettes (dans les 10 classes de chiffres)\n",
    "plt.figure()\n",
    "plt.hist(Y_train, np.linspace(-0.5,9.5,11))\n",
    "plt.hist(Y_test, np.linspace(-0.5,9.5,11))\n",
    "#plt.savefig(\"distr_classes.png\")"
   ]
  },
  {
   "cell_type": "code",
   "execution_count": 8,
   "metadata": {},
   "outputs": [
    {
     "name": "stdout",
     "output_type": "stream",
     "text": [
      "(6229, 256)\n",
      "[0.         0.         0.         0.10302734 1.24121094 1.81054688\n",
      " 0.76904297 0.76904297 0.76904297 0.31005859 0.         0.\n",
      " 0.         0.         0.         0.         0.         0.\n",
      " 0.18896484 1.37988281 2.         2.         2.         2.\n",
      " 2.         1.75097656 1.53808594 0.38305664 0.         0.\n",
      " 0.         0.         0.         0.         1.26074219 2.\n",
      " 2.         2.         2.         2.         2.         2.\n",
      " 2.         1.69824219 0.82714844 0.         0.         0.\n",
      " 0.         0.         0.52587891 2.         2.         2.\n",
      " 2.         1.75097656 1.38476562 1.72753906 2.         2.\n",
      " 1.97265625 0.4230957  0.         0.         0.         0.\n",
      " 0.76220703 2.         2.         2.         2.         1.08300781\n",
      " 0.         1.12988281 2.         2.         2.         1.01171875\n",
      " 0.         0.         0.         0.         1.1640625  2.\n",
      " 2.         2.         2.         0.68212891 0.         0.14501953\n",
      " 1.11425781 2.         2.         1.5234375  0.03399658 0.\n",
      " 0.         0.         1.53027344 2.         2.         2.\n",
      " 1.72460938 0.30688477 0.         0.         0.         0.97509766\n",
      " 2.         1.82519531 0.02900696 0.         0.         0.00800323\n",
      " 1.85253906 2.         2.         2.         0.75390625 0.\n",
      " 0.         0.         0.         0.17602539 1.99414062 1.87988281\n",
      " 0.39990234 0.         0.         0.29711914 2.         2.\n",
      " 2.         2.         0.31811523 0.         0.         0.\n",
      " 0.         0.60595703 2.         2.         0.31689453 0.\n",
      " 0.         0.47998047 1.95898438 2.         2.         1.91699219\n",
      " 0.07000732 0.         0.         0.         0.         0.93701172\n",
      " 2.         1.91601562 0.06896973 0.         0.         0.\n",
      " 1.76367188 2.         2.         1.89160156 0.39111328 0.\n",
      " 0.         0.         0.35498047 1.61132812 2.         1.62011719\n",
      " 0.         0.         0.         0.06298828 1.72265625 2.\n",
      " 2.         2.         0.82910156 0.         0.         0.56201172\n",
      " 1.88769531 2.         1.92773438 0.91210938 0.         0.\n",
      " 0.         0.         0.4140625  2.         2.         2.\n",
      " 1.86816406 1.38476562 1.38476562 1.84765625 2.         2.\n",
      " 1.56152344 0.         0.         0.         0.         0.\n",
      " 0.16699219 1.70019531 2.         2.         2.         2.\n",
      " 2.         2.         2.         1.37597656 0.08099365 0.\n",
      " 0.         0.         0.         0.         0.         0.38696289\n",
      " 1.859375   2.         2.         2.         2.         1.92773438\n",
      " 1.05664062 0.11700439 0.         0.         0.         0.\n",
      " 0.         0.         0.         0.         0.48999023 1.43554688\n",
      " 1.99902344 1.99902344 1.42675781 0.69287109 0.         0.\n",
      " 0.         0.         0.         0.        ]\n",
      "(3069, 256) (6229,) (3069,)\n"
     ]
    },
    {
     "data": {
      "text/plain": [
       "Text(0.5, 1.0, 'Image de : 6')"
      ]
     },
     "execution_count": 8,
     "metadata": {},
     "output_type": "execute_result"
    },
    {
     "data": {
      "image/png": "[encoded data removed]",
      "text/plain": [
       "<Figure size 432x288 with 1 Axes>"
      ]
     },
     "metadata": {
      "needs_background": "light"
     },
     "output_type": "display_data"
    }
   ],
   "source": [
    "# prise en main des matrices X, Y\n",
    "print(X_train.shape)\n",
    "print(X_train[0])\n",
    "# 6229 images composées de 256 pixels (image = 16x16)\n",
    "print(X_test.shape,Y_train.shape, Y_test.shape)\n",
    "\n",
    "# Affichage de l'image 18 de la base de données et récupération de l'étiquette associée:\n",
    "# (1) remise en forme de la ligne de 256 pixels en 16x16\n",
    "# (2) affichage avec imshow (en niveaux de gris)\n",
    "# (3) récupération de l'étiquette dans Y_train\n",
    "\n",
    "plt.figure()\n",
    "plt.imshow(X_train[18].reshape(16,16),cmap=\"gray\")\n",
    "plt.title(\"Image de : {}\".format(Y_train[18]))"
   ]
  },
  {
   "cell_type": "code",
   "execution_count": 9,
   "metadata": {},
   "outputs": [
    {
     "name": "stdout",
     "output_type": "stream",
     "text": [
      "6229\n",
      "0\n",
      "9\n",
      "7\n",
      "0\n",
      "2\n"
     ]
    }
   ],
   "source": [
    "print(Y_train.shape[0])\n",
    "\n",
    "for n in range (5):\n",
    "    print(Y_train[n]) # juste pour observer les classes des 5 premières images.."
   ]
  },
  {
   "cell_type": "code",
   "execution_count": 10,
   "metadata": {},
   "outputs": [
    {
     "name": "stdout",
     "output_type": "stream",
     "text": [
      "0.0 2.0\n",
      "niveaux de gris :  2001\n"
     ]
    }
   ],
   "source": [
    "# analyse des valeurs min et max, recherche du nombre de niveaux de gris dans les images:\n",
    "print(X_train.min(),X_train.max() )\n",
    "print(\"niveaux de gris : \", len(np.unique(X_train))) "
   ]
  },
  {
   "cell_type": "markdown",
   "metadata": {},
   "source": [
    "# A. Apprentissage et évaluation d'un modèle gaussien naïf\n",
    "\n",
    "## A1- Maximum de vraisemblance \n",
    "\n",
    "Nous allons étudier la distribution de probabilité des teintes de gris des images (en fait, nous allons étudier sa fonction de densité car on travaille sur des variables aléatoires continues) . Nous allons faire l'hypothèse (certes un peu forte mais tellement pratique) que, dans chaque classe, les teintes des pixels sont mutuellement indépendantes. \n",
    "\n",
    "Autrement dit, si $X_i, i\\in \\{0,...,255\\}$ représente la variable aléatoire \"intensité de gris du ième pixel\", alors $p(X_0,…,X_{255})$ représente la fonction de densité des teintes de gris des images de la classe et: \n",
    "\n",
    "$$p(X_0,,…,X_{255})=\\prod_{i=0}^{255} p(X_i)$$\n",
    "\n",
    "Ainsi, en choisissant au hasard une image dans l'ensemble de toutes les images possibles de la classe, si celle-ci correspond au tableau `np.array([x_0,...,x_255])`, où les $x_i$ sont des nombres réels compris entre 0 et 2, alors la valeur de la fonction de densité de l'image est égale à $p(x_0,...,x_{255}) = \\prod^{255}_{i=0}p(x_i)$. \n",
    "\n",
    "Nous allons de plus supposer que chaque $X_i$ suit une distribution normale de paramètres $(μ_i,σ^2_i)$. Autrement dit, $$\\forall i\\in\\{0,...,255\\}, X_i \\sim {\\cal N}(μ_i,σ^2_i)$$ \n",
    "\n",
    "Par maximum de vraisemblance, estimez, pour une classe donnée, l'ensemble des paramètres $(μ_0,…,μ_{255})$ et $(σ^2_0,…,σ^2_{255})$ pour chaque classe (chiffre de 0 à 9). Pour cela, écrivez une fonction `learnML_parameters : float np.array x float np.array -> float np.array x float np.array` qui, étant donné le tableau d'images , renvoie un couple de tableaux, le premier élément du couple correspondant à l'ensemble des $μ_i$ et le 2ème à l'ensemble des $σ^2_i$. C'est-à-dire que `learnML_parameters` renverra deux matrices:\n",
    "$$ mu \\in \\mathbb R^{10 \\times 256}, sig \\in \\mathbb R^{10 \\times 256}$$\n",
    "\n",
    "* mu contient les moyennes des 256 pixels pour les 10 classes\n",
    "* std contient les écarts-types des 256 pixels pour les 10 classes\n",
    "\n"
   ]
  },
  {
   "cell_type": "code",
   "execution_count": 214,
   "metadata": {},
   "outputs": [],
   "source": [
    "# IGNORER CETTE VERSION POUR L'INSTANT (SOLUTION NON OPTIMISEE)\n",
    "\n",
    "def learnML_parameters(X,Y):\n",
    "    \n",
    "    # copy parameters to avoid changing them\n",
    "    X = X_train # 6229 by 256\n",
    "    Y = Y_train # 6229, contains the class information for every image       \n",
    "    \n",
    "    class_array = np.zeros((10,256))\n",
    "    unique_class_instances = np.zeros(10) \n",
    "    \n",
    "    for n in range(Y_train.shape[0]): # or 6229, try to iterate once only\n",
    "    \n",
    "        class_id = Y_train[n]\n",
    "        \n",
    "        class_array[class_id] += X_train[n]\n",
    "        unique_class_instances[class_id] += 1 # unique instance of each class count\n",
    "        \n",
    "    mu = np.zeros((10,256))\n",
    "    sig = np.zeros((10,256))\n",
    "    \n",
    "    for m in range(10):\n",
    "        mu[m] = class_array[m]/unique_class_instances[m] # mu validé, suffit mtnt de calculer sig à partir de mu\n",
    "        sig[m] = (class_array[m]-mu[m])**2 # formule pour sig\n",
    "        sig[m] = sig[m]/unique_class_instances[m]\n",
    "        sig[m] = np.sqrt(sig[m])\n",
    "    \n",
    "    return mu,sig"
   ]
  },
  {
   "cell_type": "code",
   "execution_count": 11,
   "metadata": {},
   "outputs": [],
   "source": [
    "# UTILISER CETTE VERSION, SOLUTION PLUS COURTE ET EFFICACE\n",
    "\n",
    "def learnML_parameters(X,Y):\n",
    "    \n",
    "    mu = np.zeros((10,256))\n",
    "    sig = np.zeros((10,256))\n",
    "    \n",
    "    for i in range(10):\n",
    "        mu[i] = X[Y == i].mean(0)\n",
    "        sig[i] = np.sqrt(X[Y == i].var(0))\n",
    "        \n",
    "    return mu,sig"
   ]
  },
  {
   "cell_type": "code",
   "execution_count": 12,
   "metadata": {},
   "outputs": [
    {
     "name": "stdout",
     "output_type": "stream",
     "text": [
      "(10, 256) (10, 256)\n"
     ]
    }
   ],
   "source": [
    "mu,sig = learnML_parameters ( X_train, Y_train )\n",
    "print(mu.shape, sig.shape) # doit donner (10, 256) (10, 256)"
   ]
  },
  {
   "cell_type": "markdown",
   "metadata": {},
   "source": [
    "Check: pour la classe 0, les paramètres doivent être les suivants\n",
    "```\n",
    "mu[0]=\n",
    "[1.53774208e-03 4.46785940e-03 1.71216078e-02 6.31194048e-02\n",
    " 1.84061642e-01 4.71391665e-01 8.97640989e-01 1.15019928e+00\n",
    " ...\n",
    " 1.42675380e+00 1.03130694e+00 5.32240296e-01 1.74166387e-01\n",
    " 3.57644515e-02 5.52804884e-03 4.36592998e-04 0.00000000e+00]\n",
    "sig[0]=\n",
    "[5.01596286e-02 7.93695089e-02 1.46489017e-01 2.65522337e-01\n",
    " 4.42306204e-01 6.35148001e-01 7.40462105e-01 7.48387032e-01\n",
    " ...\n",
    " 6.62741331e-01 6.75677391e-01 5.86224763e-01 3.56460503e-01\n",
    " 1.71512333e-01 5.67475697e-02 1.20193571e-02 0.00000000e+00]\n",
    "```"
   ]
  },
  {
   "cell_type": "code",
   "execution_count": 13,
   "metadata": {},
   "outputs": [
    {
     "name": "stdout",
     "output_type": "stream",
     "text": [
      "[5.01596286e-02 7.93695089e-02 1.46489017e-01 2.65522337e-01\n",
      " 4.42306204e-01 6.35148001e-01 7.40462105e-01 7.48387032e-01\n",
      " 7.52036960e-01 6.78162781e-01 4.81813622e-01 2.95993695e-01\n",
      " 1.02298252e-01 6.82956225e-02 3.69197145e-03 0.00000000e+00\n",
      " 5.53305148e-02 9.36063684e-02 2.40012769e-01 4.83422217e-01\n",
      " 7.27502091e-01 8.01985000e-01 6.94079513e-01 6.09677496e-01\n",
      " 6.52843815e-01 7.58749067e-01 8.06674659e-01 6.41779078e-01\n",
      " 3.75508554e-01 1.82421873e-01 5.60909703e-02 1.83784976e-04\n",
      " 9.07390154e-02 1.92883673e-01 4.16989953e-01 7.07690582e-01\n",
      " 8.35158840e-01 7.30403526e-01 6.28008151e-01 6.32851408e-01\n",
      " 6.86100539e-01 6.71979869e-01 7.51457414e-01 8.24431822e-01\n",
      " 6.63627535e-01 3.74208629e-01 1.38194178e-01 2.98619157e-02\n",
      " 9.45533790e-02 2.82750058e-01 6.06158973e-01 8.42184682e-01\n",
      " 8.02525637e-01 6.80684430e-01 7.48069966e-01 8.29618901e-01\n",
      " 8.54595560e-01 8.13916791e-01 7.25657326e-01 7.80928249e-01\n",
      " 8.29105508e-01 6.20032814e-01 3.01234018e-01 5.58154512e-02\n",
      " 1.09365871e-01 4.41834837e-01 7.86403336e-01 8.54671841e-01\n",
      " 7.25871029e-01 7.49769833e-01 8.60018826e-01 8.48475760e-01\n",
      " 7.93461173e-01 8.30151279e-01 8.38238904e-01 7.46830716e-01\n",
      " 8.23250136e-01 8.07749355e-01 5.21476656e-01 1.51179416e-01\n",
      " 1.93296940e-01 6.43519638e-01 8.66847326e-01 7.99175192e-01\n",
      " 7.32236741e-01 8.36613090e-01 8.58973603e-01 7.10036806e-01\n",
      " 5.93002877e-01 6.76919355e-01 8.31300490e-01 8.22357229e-01\n",
      " 7.87742805e-01 8.57211603e-01 7.19108684e-01 2.69220701e-01\n",
      " 3.32313804e-01 7.92583272e-01 8.69718115e-01 7.69382790e-01\n",
      " 7.94654102e-01 8.64282887e-01 7.76566173e-01 5.26547832e-01\n",
      " 3.76112150e-01 4.76751198e-01 7.55143627e-01 8.53824054e-01\n",
      " 7.91149389e-01 8.39106726e-01 8.31564203e-01 4.23639743e-01\n",
      " 4.87032030e-01 8.63470062e-01 8.47748200e-01 7.72816355e-01\n",
      " 8.52947815e-01 8.56126914e-01 6.26520525e-01 3.57070009e-01\n",
      " 2.32239243e-01 3.50765435e-01 6.85159974e-01 8.53280525e-01\n",
      " 8.21682300e-01 8.23020619e-01 8.73898674e-01 5.52603454e-01\n",
      " 6.01596881e-01 8.84913792e-01 8.23667880e-01 7.97195327e-01\n",
      " 8.79116478e-01 8.04003126e-01 4.88515527e-01 2.33873563e-01\n",
      " 1.32954990e-01 2.82824021e-01 6.47546729e-01 8.55150837e-01\n",
      " 8.32743227e-01 8.13760126e-01 8.79500639e-01 6.23278481e-01\n",
      " 6.27274788e-01 8.87553616e-01 8.08346650e-01 7.99217941e-01\n",
      " 8.83241286e-01 7.40576048e-01 3.95873214e-01 1.58194876e-01\n",
      " 1.35774498e-01 3.17394838e-01 6.64478692e-01 8.69441926e-01\n",
      " 8.24799842e-01 8.14857118e-01 8.75637883e-01 5.99084617e-01\n",
      " 5.60878494e-01 8.79172781e-01 7.99994274e-01 7.79500355e-01\n",
      " 8.71300238e-01 7.07469723e-01 3.70424796e-01 2.22900094e-01\n",
      " 2.61840203e-01 4.53336326e-01 7.48030848e-01 8.66036662e-01\n",
      " 7.69580365e-01 8.21516759e-01 8.58901592e-01 4.99634590e-01\n",
      " 3.90619385e-01 8.34941475e-01 8.17641589e-01 7.24679551e-01\n",
      " 8.40919298e-01 7.59144096e-01 5.11722843e-01 4.41270048e-01\n",
      " 5.16084855e-01 6.84294249e-01 8.42083832e-01 7.76860627e-01\n",
      " 7.07485281e-01 8.39049325e-01 7.73085343e-01 3.34022719e-01\n",
      " 2.04963592e-01 6.81793854e-01 8.40705264e-01 6.82730699e-01\n",
      " 7.26315544e-01 8.23864229e-01 7.46543700e-01 7.28041059e-01\n",
      " 7.90768951e-01 8.23062208e-01 7.65169592e-01 6.35267424e-01\n",
      " 7.38940651e-01 8.33830774e-01 5.75147368e-01 1.70537311e-01\n",
      " 9.87858616e-02 3.81298193e-01 7.51553287e-01 7.80270482e-01\n",
      " 5.63772865e-01 6.42284817e-01 7.48036762e-01 7.75665140e-01\n",
      " 7.32949180e-01 6.31842594e-01 5.10614267e-01 6.55642504e-01\n",
      " 8.07719344e-01 6.34404155e-01 3.08036725e-01 7.70031201e-02\n",
      " 4.28491533e-02 1.49241169e-01 3.88664918e-01 7.09137364e-01\n",
      " 7.47600259e-01 5.37788720e-01 4.69614715e-01 4.75974793e-01\n",
      " 4.70450663e-01 5.17338109e-01 6.74591782e-01 7.68727058e-01\n",
      " 5.82843252e-01 2.99680167e-01 9.71493362e-02 5.02788596e-02\n",
      " 2.30063923e-03 3.19935119e-02 8.28517967e-02 2.53333160e-01\n",
      " 4.80454805e-01 6.58647918e-01 6.69771998e-01 6.43217647e-01\n",
      " 6.62741331e-01 6.75677391e-01 5.86224763e-01 3.56460503e-01\n",
      " 1.71512333e-01 5.67475697e-02 1.20193571e-02 0.00000000e+00]\n"
     ]
    }
   ],
   "source": [
    "print( sig[0])"
   ]
  },
  {
   "cell_type": "markdown",
   "metadata": {},
   "source": [
    "## A2- Log-vraisemblance d'une image pour une classe\n",
    "\n",
    "Écrivez une fonction `log_likelihood : float np.array x float np.array x float np.array -> float` qui, étant donné une image (donc un tableau de 256 nombres réels) et un couple de paramètres `( array ( [μ0,…,μ255] ), array ( [σ20,…,σ255] ) )`, renvoie la log-vraisemblance qu'aurait l'image selon cet ensemble de $μ_i$ et $σ_i$ (correspondant à une classe de chiffre). Rappelez-vous que (en mettant $-\\frac{1}{2}$ en facteur) : \n",
    "\n",
    "$$\\log(p(x_0,\\cdots,x_{255})=\\sum_{i=0}^{255} \\log p(x_i)=-\\frac{1}{2}\\sum_{i=0}^{255} \\left[ \\log(2\\pi \\sigma^2_i) + \\frac{(x_i-\\mu_i)^2}{\\sigma_i^2} \\right]$$\n",
    "\n",
    "Notez que le module `np` contient une constante `np.pi` ainsi que toutes les fonctions mathématiques classiques directement applicables sur des vecteurs. Vous pouvez donc éventuellement coder la ligne précédente sans boucle, en une ligne.\n",
    "\n",
    "**Attention**: dans la matrice `sig` calculée dans la question précédente, pour certains pixels de certaines classes, la valeur de $σ^2$ est égale à $0$ (toutes les images de la base d'apprentissage avaient exactement la même valeur sur ce pixel). \n",
    "* cette valeur pose problème dans le calcul précédent (division par 0)\n",
    "* Réfléchir à différente manière de traiter ce problème:\n",
    " * faible valeur par défaut de $\\sigma$ reflétant une variance très faible mais évitant la division par 0 (usage de  `np.maximum`par exemple)\n",
    " * vraisemblance de 1 pour le ou les pixels impactés"
   ]
  },
  {
   "cell_type": "code",
   "execution_count": 297,
   "metadata": {},
   "outputs": [],
   "source": [
    "#    on utilisera dans le suite le paramètre defeps: \n",
    "#    positif, il donne la valeur minimale d'écart type\n",
    "#    = -1, il faut prendre une vraisemblance de 1 pour les pixels concernés\n",
    "\n",
    "# IGNORER CETTE VERSION POUR L'INSTANT\n",
    "\n",
    "def log_likelihood(img, mu, sig, defsig = 1e-5): # valeur defsig par défaut vaut 0.00001 si on rencontre des 0\n",
    "    \n",
    "    somme_log = 0\n",
    "    \n",
    "    for n in range(256):\n",
    "        if sig[n] == 0:\n",
    "            somme_log += -1/2*(np.log(2*np.pi*(defsig)**2) + (img[n] - mu[n])**2/ (defsig)**2 )\n",
    "        else:\n",
    "            somme_log += -1/2*(np.log(2*np.pi*(sig[n])**2) + (img[n] - mu[n])**2/ (sig[n])**2 )\n",
    "    \n",
    "    return somme_log"
   ]
  },
  {
   "cell_type": "code",
   "execution_count": 14,
   "metadata": {},
   "outputs": [],
   "source": [
    "# UTILISER CETTE VERSION\n",
    "# solution pour vraisemblance de 1 pour pixels problématiques\n",
    "def log_likelihood(img, mu, sig, defsig = 1e-5): # valeur defsig par défaut vaut 0.00001 si on rencontre des 0\n",
    "    \n",
    "    if defsig > 0:\n",
    "        sig = np.maximum(sig,defsig)\n",
    "        return -0.5 * (np.log(2*np.pi*sig**2) + (img - mu)**2 / sig**2).sum()\n",
    "    else:  \n",
    "        return -0.5 * sum ([np.log(2*np.pi*sig[i]**2) + (img[i] - mu[i])**2 / sig[i]**2 \\\n",
    "                            for i in range(len(img)) if sig[i] > 0])"
   ]
  },
  {
   "cell_type": "code",
   "execution_count": 15,
   "metadata": {},
   "outputs": [
    {
     "name": "stdout",
     "output_type": "stream",
     "text": [
      "-111.88760421521835\n",
      "[-111.88760421521835, -1716629080.989729, -364.83171019852006, -487.01085544875855, -544.9100255404516, -387.7594698419803, -59747.8395637312, -581523.2639945432, -303.762503411686, -13497.825910916881]\n"
     ]
    }
   ],
   "source": [
    "print(log_likelihood(X_train[0], mu[0], sig[0],-1)) \n",
    "# vraisemblance de l'image 0 selon les paramètres de la classe 0\n",
    "\n",
    "print([log_likelihood(X_train[0], mu[i], sig[i], -1) for i in range(10)]) \n",
    "# vraisemblance de l'image 0 pour toutes les classes"
   ]
  },
  {
   "cell_type": "markdown",
   "metadata": {},
   "source": [
    "Check : le code ci-dessus avec une valeur par défaut de $1e-5$ pour les sigmas nuls doit donner:\n",
    "```\n",
    "-90.69963035168726\n",
    "```\n",
    "puis pour toutes les classes:\n",
    "```\n",
    "[-90.69963035168726, -231211311074.5327, -364.8317101985202, -487.01085544875843, -513.128064745155, -387.75946984198, -59610.117733618186, -75567222244.77489, -271.980542616389, -857252055.4774221]\n",
    "```\n",
    "\n",
    "Avec une vraisemblance de 1 pour les pixels problématiques:\n",
    "```\n",
    "[-111.88760421521835, -1716629080.989729, -364.83171019852006, -487.01085544875855, -544.9100255404516, -387.7594698419803, -59747.8395637312, -581523.2639945432, -303.762503411686, -13497.825910916881]\n",
    "```"
   ]
  },
  {
   "cell_type": "markdown",
   "metadata": {},
   "source": [
    "## A3- Classification d'une image\n",
    "Écrire une fonction `classify_image : float np.array x float np.array x float np.array -> int` qui, étant donnée une image et l'ensemble de paramètres déterminés dans les questions précédentes, renvoie la classe la plus probable de l'image, c'est-à-dire celle dont la log-vraisemblance est la plus grande."
   ]
  },
  {
   "cell_type": "code",
   "execution_count": 16,
   "metadata": {},
   "outputs": [],
   "source": [
    "def classify_image(img, mu, sig, defeps=1e-5):\n",
    "   \n",
    "    #valeurs_vraisemblances = log_likelihood(img, mu, sig, defeps)    \n",
    "    #return np.argmax([valeurs_vraisemblances[n] for n in range(10)])\n",
    "    \n",
    "    # ^make this implementation work as it allows storage of the values in an array instead of returning directly\n",
    "    \n",
    "    return np.argmax([log_likelihood(img, mu[n], sig[n], defeps) for n in range(10)])\n"
   ]
  },
  {
   "cell_type": "code",
   "execution_count": 17,
   "metadata": {},
   "outputs": [
    {
     "data": {
      "text/plain": [
       "0"
      ]
     },
     "execution_count": 17,
     "metadata": {},
     "output_type": "execute_result"
    }
   ],
   "source": [
    "# check\n",
    "classify_image(X_train[0], mu, sig, -1)\n",
    "# l'image 0 est de la classe 0"
   ]
  },
  {
   "cell_type": "markdown",
   "metadata": {},
   "source": [
    "## A4- Classification de toutes les images\n",
    "Écrire une fonction `classify_all_images : float np.array x float np.array x float np.array -> float np.array` qui, étant donné un tableau $X$ des images ($N \\times 256$) et l'ensemble de paramètres déterminés dans les questions précédentes, renvoie un tableau $\\hat Y$ qui donne la prédiction de classe pour toutes les images"
   ]
  },
  {
   "cell_type": "code",
   "execution_count": 18,
   "metadata": {},
   "outputs": [],
   "source": [
    "def classify_all_images(X, mu, sig, defeps=1e-5):\n",
    "    \n",
    "    nb = X.shape[0]\n",
    "    \n",
    "    Y_train_hat = np.zeros(nb)\n",
    "    \n",
    "    for n in range(nb):\n",
    "        Y_train_hat[n] = classify_image(X[n], mu, sig, -1)\n",
    "    \n",
    "    return Y_train_hat"
   ]
  },
  {
   "cell_type": "code",
   "execution_count": 19,
   "metadata": {},
   "outputs": [
    {
     "name": "stdout",
     "output_type": "stream",
     "text": [
      "[0. 9. 7. ... 6. 3. 2.]\n"
     ]
    }
   ],
   "source": [
    "# check\n",
    "Y_train_hat = classify_all_images(X_train, mu, sig, -1)\n",
    "# takes about a minute or two to run\n",
    "\n",
    "print(Y_train_hat) # doit rendre: [0 9 7 ... 6 3 2]"
   ]
  },
  {
   "cell_type": "markdown",
   "metadata": {},
   "source": [
    "## A5-Matrice de confusion et affichage du résultat des classifications\n",
    "\n",
    "La matrice de confusion est de la forme $C \\times C$ où $C$ est le nombre de classe. Les lignes sont les vraies classes, les colonnes sont les classes prédites. Chaque case (i,j) contient le nombre d'images correspondant à la vraie classe i et à la prédiction j.\n",
    "Si votre classifieur est performant, vous devriez observer des pics sur la diagonale. \n",
    "\n",
    "La fonction `matrice_confusion(Y, Y_hat)` prend en argument un vecteur d'étiquettes réelles et un vecteur de même taille d'étiquettes prédites et retourne la matrice de confusion.\n",
    "\n",
    "Vous devriez obtenir une matrice de la forme:\n",
    "<img src=\"mat_conf_train.png\" title=\"Matrice de confusion\">"
   ]
  },
  {
   "cell_type": "code",
   "execution_count": 20,
   "metadata": {},
   "outputs": [],
   "source": [
    "def matrice_confusion(Y, Y_hat):\n",
    "    \n",
    "    conf_mat = np.zeros((10,10))\n",
    "    \n",
    "    for n in range(Y.shape[0]):\n",
    "        conf_mat[int(Y[n])][int(Y_hat[n])] += 1 # on rajoute 1 à chaque case correspondante\n",
    "    return conf_mat"
   ]
  },
  {
   "cell_type": "code",
   "execution_count": 21,
   "metadata": {},
   "outputs": [
    {
     "name": "stdout",
     "output_type": "stream",
     "text": [
      "Taux de bonne classification: 0.8099213356879114\n"
     ]
    },
    {
     "data": {
      "text/plain": [
       "<matplotlib.image.AxesImage at 0x20e47a617c0>"
      ]
     },
     "execution_count": 21,
     "metadata": {},
     "output_type": "execute_result"
    },
    {
     "data": {
      "image/png": "[encoded data removed]",
      "text/plain": [
       "<Figure size 432x288 with 1 Axes>"
      ]
     },
     "metadata": {
      "needs_background": "light"
     },
     "output_type": "display_data"
    }
   ],
   "source": [
    "# affichage de la matrice de confusion\n",
    "m = matrice_confusion(Y_train, Y_train_hat)\n",
    "\n",
    "print(\"Taux de bonne classification: {}\".format(np.where(Y_train == Y_train_hat, 1, 0).mean()))\n",
    "\n",
    "plt.figure()\n",
    "plt.imshow(m)"
   ]
  },
  {
   "cell_type": "markdown",
   "metadata": {},
   "source": [
    "## A6- Ensemble d'apprentissage, ensemble de test\n",
    "\n",
    "Dans la procédure que nous avons suivie jusqu'ici, nous avons triché. Les mêmes données servent à apprendre les paramètres et à évaluer le modèle. Evidemment, le modèle est parfaitement adapté et les performances sur-estimées.\n",
    "\n",
    "Afin de réduire ce biais, nous allons maintenant évaluer les performances sur les données de test. Les performances devraient être plus basses... Mais plus réalistes.\n",
    "\n",
    "Effectuer ces calculs et afficher le taux de bonne classification et la matrice de confusion.\n",
    "\n",
    "**Attention:** il faut donc utiliser les paramètres appris sur de nouvelles données sans réapprendre des paramètres spécifiques sinon ça ne marche pas\n",
    "\n",
    "Afin de mieux comprendre les erreurs (et de vérifier vos connaissances sur numpy): afficher une image de chiffre mal classée, son étiquette prédite et son étiquette réelle. \n",
    "Normalement, vous devez retrouver automatiquement que le premier chiffre mal classé est l'image 10:\n",
    "\n",
    "<img src=\"bad_classif.png\" title=\"exemple d'erreur\">"
   ]
  },
  {
   "cell_type": "code",
   "execution_count": 22,
   "metadata": {},
   "outputs": [
    {
     "name": "stdout",
     "output_type": "stream",
     "text": [
      "Taux de bonne classification: 0.7934180514825676\n",
      "10\n"
     ]
    },
    {
     "data": {
      "text/plain": [
       "Text(0.5, 0.98, 'Prédiction donnée : 6.0')"
      ]
     },
     "execution_count": 22,
     "metadata": {},
     "output_type": "execute_result"
    },
    {
     "data": {
      "image/png": "[encoded data removed]",
      "text/plain": [
       "<Figure size 432x288 with 1 Axes>"
      ]
     },
     "metadata": {
      "needs_background": "light"
     },
     "output_type": "display_data"
    },
    {
     "data": {
      "image/png": "[encoded data removed]",
      "text/plain": [
       "<Figure size 432x288 with 1 Axes>"
      ]
     },
     "metadata": {
      "needs_background": "light"
     },
     "output_type": "display_data"
    }
   ],
   "source": [
    "# il faut apprendre sur une base de donnée de test, \n",
    "# donc remplacer X train par X test (et Y train par Y test?)\n",
    "# mais quels sont les paramètres à ne pas réapprendre? Bien les identifier avant de passer au code\n",
    "\n",
    "# classer les X_test à partir des paramètres de X_train\n",
    "\n",
    "# mu_test, sig_test = learnML_parameters(X_test, Y_test) DONT RELEARN THE PARAMETERS, THIS IS WRONG\n",
    "\n",
    "Y_test_hat = classify_all_images(X_test, mu, sig, -1)\n",
    "m2 = matrice_confusion(Y_test, Y_test_hat)\n",
    "\n",
    "print(\"Taux de bonne classification: {}\".format(np.where(Y_test == Y_test_hat, 1, 0).mean()))\n",
    "\n",
    "plt.figure()\n",
    "plt.imshow(m2)\n",
    "\n",
    "# on remarque une classification un peu dégradée mais de l'ordre de 1 pourcent pire environ\n",
    "\n",
    "# chercher la première instance ou Y_test et Y_test_hat sont différents\n",
    "for n in range (Y_test.shape[0]):\n",
    "    if Y_test[n] != Y_test_hat[n]:\n",
    "        print(n)\n",
    "        break\n",
    "plt.figure()\n",
    "plt.imshow(X_test[n].reshape(16,16),cmap=\"gray\")\n",
    "plt.title(\"Image de : {}\".format(Y_test[n]))\n",
    "plt.suptitle(\"Prédiction donnée : {}\".format(Y_test_hat[n]))"
   ]
  },
  {
   "cell_type": "markdown",
   "metadata": {},
   "source": [
    "# Autres modélisations possibles pour les images\n",
    "\n",
    "## B. Modélisation par une loi de Bernoulli\n",
    "\n",
    "Soit les indices $i$ donnant les images et les indices $j$ référant aux pixels dans l'image, nous cherchons à déterminer la probabilité d'illumination d'un pixel $j$ pour une collection d'image (d'une seule classe, par exemple les $0$).\n",
    "\n",
    "Collection de $0$:\n",
    "$$ X = \\{\\mathbf{x_i}\\}_{i = 1,\\ldots, N}, \\qquad \\mathbf{x_i} \\in \\{0,1\\}^{256}$$\n",
    "\n",
    "Modélisation de la variable de Bernoulli $X_j$, valeur du pixel $j$ en écriture factorisée:\n",
    "$$ p(X_j = x_{ij}) = p_j^{x_{ij}} (1-p_j)^{(1-x_{ij})} = \\left\\{\n",
    "\\begin{array}{ccc}\n",
    "p_j & \\mbox{ si } x_{ij} = 1 \\\\\n",
    "1-p_j & \\mbox{ si } x_{ij} = 0 \\\\\n",
    "\\end{array}\n",
    "\\right.$$\n",
    "\n",
    "Expression de la vraisemblance\n",
    "\n",
    "Maximisation de la vraisemblance $\\Rightarrow$ $\\nabla_{\\theta} \\mathcal L(X, \\theta) = 0$:\n",
    "\n",
    "$$p_j^\\star = \\frac{\\sum_i x_{ij}}{N} $$\n",
    "\n",
    "Intuitif: nombre de $1$ pour le pixel $j$ divisé par le nombre d'image = pourcentage d'illumination du pixel $j$"
   ]
  },
  {
   "cell_type": "code",
   "execution_count": 23,
   "metadata": {},
   "outputs": [
    {
     "name": "stdout",
     "output_type": "stream",
     "text": [
      "(6229, 256)\n"
     ]
    },
    {
     "data": {
      "image/png": "[encoded data removed]",
      "text/plain": [
       "<Figure size 432x288 with 1 Axes>"
      ]
     },
     "metadata": {
      "needs_background": "light"
     },
     "output_type": "display_data"
    },
    {
     "data": {
      "image/png": "[encoded data removed]",
      "text/plain": [
       "<Figure size 432x288 with 1 Axes>"
      ]
     },
     "metadata": {
      "needs_background": "light"
     },
     "output_type": "display_data"
    }
   ],
   "source": [
    "# binarisation des images pour coller avec l'hypothèse de Bernoulli:\n",
    "\n",
    "Xb_train = np.where(X_train>0, 1, 0)\n",
    "Xb_test  = np.where(X_test>0, 1, 0)\n",
    "\n",
    "# affichage d'une image binaire:\n",
    "plt.figure()\n",
    "plt.imshow(Xb_train[0].reshape(16,16))\n",
    "plt.figure()\n",
    "plt.imshow(Xb_test[0].reshape(16,16))\n",
    "\n",
    "print(Xb_train.shape)\n",
    "\n",
    "# on binarise les images pour pouvoir appliquer les épreuves de Bernoulli (seuls résultats sont 1 et 0)"
   ]
  },
  {
   "cell_type": "markdown",
   "metadata": {},
   "source": [
    "### B-1: Ecrire la fonction d'apprentissage des paramètres qui retourne la matrice theta suivante:\n",
    "\n",
    "$$ \\theta^\\star = \n",
    " \\left[\n",
    " \\begin{array}{ccc}\n",
    "     [p_0^\\star, \\ldots, p_{255}^\\star] & \\mbox{Paramètres optimaux de la classe 0 au sens du max de vraisembalnce} \\\\\n",
    "     [p_0^\\star, \\ldots, p_{255}^\\star] & \\mbox{Paramètres optimaux de la classe 1 au sens du max de vraisembalnce} \\\\\n",
    "\\vdots & \\\\\n",
    "     [p_0^\\star, \\ldots, p_{255}^\\star] & \\mbox{Paramètres optimaux de la classe 9 au sens du max de vraisembalnce} \\\\\n",
    "\\end{array}\n",
    " \\right]\n",
    " $$\n",
    " \n",
    " Il faut ensuite calculer les :\n",
    " $$ \\log p (\\mathbf{x_i} | \\theta^{(c)}) = \\sum_j \\log p(X_j = x_{ij})  = \\sum_j {x_{ij}} \\log p_j + {(1-x_{ij})}\\log(1-p_j)$$\n",
    " \n",
    " Faire passer les $N$ images dans les $C$ modèles donne un tableau de la forme :\n",
    " $$ \\log p (X | \\theta) =  \\left[\n",
    " \\begin{array}{cccc}\n",
    " \\log p (\\mathbf{x_0} | \\theta^{(0)}) &  \\log p (\\mathbf{x_0} | \\theta^{(1)}) & \\ldots &  \\log p (\\mathbf{x_0} | \\theta^{(9)}) \\\\\n",
    " & \\vdots & \\\\\n",
    " \\log p (\\mathbf{x_N} | \\theta^{(0)}) &  \\log p (\\mathbf{x_N} | \\theta^{(1)}) & \\ldots &  \\log p (\\mathbf{x_N} | \\theta^{(9)}) \\\\\n",
    "  \\end{array}\n",
    " \\right]\n",
    " $$\n",
    " \n",
    " Chaque ligne donne pour une image sa probabilité d'appartenance à chaque classe $c$.\n",
    " Un argmax par ligne donne une estimation de la classe."
   ]
  },
  {
   "cell_type": "code",
   "execution_count": 24,
   "metadata": {},
   "outputs": [],
   "source": [
    "def learnBernoulli ( X,Y ):\n",
    "    \n",
    "    # attention learnBernoulli est la fonction avant d'appliquer tous les logs!\n",
    "    # on récupère just theta ici, qui est obtenu en prenant la formule\n",
    "    # pj = xij/N\n",
    "    \n",
    "    theta = np.zeros((10,256))\n",
    "    N = np.zeros((10))\n",
    "    \n",
    "    for n in Y:\n",
    "        N[n] += 1 # increments every time we find said class over Y_train in a 10 by 1 array\n",
    "                  # gives us class occurence number\n",
    "    \n",
    "    for m in range(X.shape[0]):\n",
    "        theta[Y[m]] += X[m] # takes binary image distributions and put them in corresponding classes\n",
    "        \n",
    "    for l in range(10):\n",
    "        theta[l] = theta[l]/N[l] # xij/N sur chaque ligne\n",
    "        \n",
    "    return theta # chaque ligne de theta correspond aux paramètres optimaux de 256 pixels de la classe"
   ]
  },
  {
   "cell_type": "code",
   "execution_count": 25,
   "metadata": {},
   "outputs": [
    {
     "name": "stdout",
     "output_type": "stream",
     "text": [
      "(10, 256)\n",
      "[[0.00093897 0.00657277 0.03192488 ... 0.02347418 0.00375587 0.        ]\n",
      " [0.         0.         0.         ... 0.00233372 0.         0.        ]\n",
      " [0.01941748 0.05987055 0.13430421 ... 0.27993528 0.20711974 0.11326861]\n",
      " ...\n",
      " [0.06666667 0.16078431 0.2745098  ... 0.         0.         0.        ]\n",
      " [0.01033058 0.05371901 0.1322314  ... 0.01446281 0.00206612 0.        ]\n",
      " [0.0037037  0.0037037  0.01111111 ... 0.00555556 0.00185185 0.        ]]\n"
     ]
    }
   ],
   "source": [
    "theta = learnBernoulli ( Xb_train,Y_train )\n",
    "print(theta.shape)\n",
    "print(theta)"
   ]
  },
  {
   "cell_type": "markdown",
   "metadata": {},
   "source": [
    "Check du résultat précédent:\n",
    "```\n",
    "(10, 256)\n",
    "[[0.00093897 0.00657277 0.03192488 ... 0.02347418 0.00375587 0.        ]\n",
    " [0.         0.         0.         ... 0.00233372 0.         0.        ]\n",
    " [0.01941748 0.05987055 0.13430421 ... 0.27993528 0.20711974 0.11326861]\n",
    " ...\n",
    " [0.06666667 0.16078431 0.2745098  ... 0.         0.         0.        ]\n",
    " [0.01033058 0.05371901 0.1322314  ... 0.01446281 0.00206612 0.        ]\n",
    " [0.0037037  0.0037037  0.01111111 ... 0.00555556 0.00185185 0.        ]]\n",
    "```"
   ]
  },
  {
   "cell_type": "markdown",
   "metadata": {},
   "source": [
    "### B-2: Ecrire ensuite une fonction de calcul de la vraisemblance d'une image par rapport à ces paramètres\n",
    "\n",
    "**Attention** $log(0)$ n'est pas défini et $log(1-x)$ avec $x=1$ non plus ! \n",
    "La solution à ce problème est assez simple, il suffit de seuiller les probabilités d'illumination entre $\\epsilon $ et $1-\\epsilon$."
   ]
  },
  {
   "cell_type": "code",
   "execution_count": 36,
   "metadata": {},
   "outputs": [],
   "source": [
    "def logpobsBernoulli(X, theta): \n",
    "    # X is one image input, of 256 pixels\n",
    "    # theta is the value we have trained over with all of Xb_train   \n",
    "    vraisemblance_bern = np.zeros((10)) # output is 10 values in one row\n",
    "    eps = 1e-4\n",
    "    \n",
    "    for n in range(10):\n",
    "        for m in range(X.shape[0]): # iterate over all 256 pixels\n",
    "\n",
    "            if theta[n][m] == 0:\n",
    "                theta[n][m] = eps\n",
    "            elif theta[n][m] == 1:\n",
    "                theta[n][m] = 1 - eps\n",
    "                \n",
    "            vraisemblance_bern[n] += X[m]*np.log(theta[n][m]) + (1-X[m])*np.log(1-theta[n][m])\n",
    "            # X[m] should work as the input given is of the form X[0] so no need for second []\n",
    "    \n",
    "    return vraisemblance_bern\n",
    "    # return value is 10 values on one line"
   ]
  },
  {
   "cell_type": "code",
   "execution_count": 33,
   "metadata": {},
   "outputs": [
    {
     "data": {
      "text/plain": [
       "array([ -84.92517398, -742.65796653, -171.38766957, -175.31753619,\n",
       "       -216.95715849, -161.36508121, -208.21533436, -360.17024632,\n",
       "       -172.16285293, -287.87685778])"
      ]
     },
     "execution_count": 33,
     "metadata": {},
     "output_type": "execute_result"
    }
   ],
   "source": [
    "logpobsBernoulli(Xb_train[0], theta)\n",
    "# check avec un epsilon = 1e-4 : \n",
    "# array([  95.28940214, -913.86894309, -131.15364866, -104.77977757,\n",
    "#       -209.07303017,  -85.14159392, -122.04368898, -384.11935833,\n",
    "#        -71.06243118, -252.53913188])\n",
    "\n",
    "# ce résultat vous parait-il normal? Qu'est ce qui peut expliquer cette valeur étonnante?"
   ]
  },
  {
   "cell_type": "markdown",
   "metadata": {},
   "source": [
    "### B-3: Evaluer ensuite vos performances avec les mêmes méthodes que précédemment"
   ]
  },
  {
   "cell_type": "code",
   "execution_count": 37,
   "metadata": {},
   "outputs": [
    {
     "name": "stdout",
     "output_type": "stream",
     "text": [
      "Taux de bonne classification: 0.8533724340175953\n"
     ]
    },
    {
     "data": {
      "text/plain": [
       "<matplotlib.image.AxesImage at 0x20e47ac8490>"
      ]
     },
     "execution_count": 37,
     "metadata": {},
     "output_type": "execute_result"
    },
    {
     "data": {
      "image/png": "[encoded data removed]",
      "text/plain": [
       "<Figure size 432x288 with 1 Axes>"
      ]
     },
     "metadata": {
      "needs_background": "light"
     },
     "output_type": "display_data"
    }
   ],
   "source": [
    "Y_test_hat = [np.argmax(logpobsBernoulli(Xb_test[i], theta)) for i in range (len(Xb_test))]\n",
    "\n",
    "m = matrice_confusion(Y_test, Y_test_hat)\n",
    "\n",
    "print(\"Taux de bonne classification: {}\".format(np.where(Y_test == Y_test_hat, 1, 0).mean()))\n",
    "\n",
    "plt.figure()\n",
    "plt.imshow(m)"
   ]
  },
  {
   "cell_type": "markdown",
   "metadata": {},
   "source": [
    "# C. Modélisation des profils de chiffre\n",
    "\n",
    "Comme expliquer dans le TD 2, il est possible de jouer avec les profils des images: chaque image est alors séparée en 16 lignes et pour chaque ligne, nous modélisons l'apparition du premier pixel allumé avec une loi géométrique.\n",
    "Pour plus de simplicité, nous vous donnons ci-dessous la fonction de transformation de la base d'image et son application."
   ]
  },
  {
   "cell_type": "code",
   "execution_count": 30,
   "metadata": {},
   "outputs": [],
   "source": [
    "################################################################################\n",
    "# modelisation geometrique\n",
    "def transfoProfil(X):\n",
    "    x2 = []\n",
    "    for x in X:\n",
    "        ind = np.where(np.hstack((x.reshape(16, 16), np.ones((16,1))))>0.3)\n",
    "        x2.append( [ind[1][np.where(ind[0] == i)][0] for i in range(16)])\n",
    "    return np.array(x2)\n",
    "\n",
    "Xg_train = transfoProfil(Xb_train)\n",
    "Xg_test  = transfoProfil(Xb_test)"
   ]
  },
  {
   "cell_type": "code",
   "execution_count": 31,
   "metadata": {},
   "outputs": [
    {
     "name": "stdout",
     "output_type": "stream",
     "text": [
      "[3 2 2 2 2 2 2 1 1 1 2 1 2 2 3 4]\n"
     ]
    }
   ],
   "source": [
    "print(Xg_train[0]) # [3 2 2 2 2 2 2 1 1 1 2 1 2 2 3 4]\n",
    "# une image est maintenant représentée par 16 entiers"
   ]
  },
  {
   "cell_type": "markdown",
   "metadata": {},
   "source": [
    "### C-123: Ecrire les fonctions d'apprentissage des paramètres et de calcul de la vraisemblance avec cette modélisation"
   ]
  },
  {
   "cell_type": "code",
   "execution_count": null,
   "metadata": {},
   "outputs": [],
   "source": [
    "def learnGeom ( X,Y):\n",
    "    # votre code ici\n",
    "    pass\n",
    "    \n",
    "def logpobsGeom(X, theta):\n",
    "    # votre code ici\n",
    "    pass\n",
    "    \n",
    "theta = learnGeom(Xg_train, Y_train)\n",
    "\n",
    "print(logpobsGeom(Xg_test[1], theta))\n",
    "\n",
    "Y_train_hat = [np.argmax(logpobsGeom(Xg_train[i], theta)) for i in range (len(Xg_train))]\n",
    "Y_test_hat  = [np.argmax(logpobsGeom(Xg_test[i], theta)) for i in range (len(Xg_test))]\n",
    "\n",
    "ma = matrice_confusion(Y_train, Y_train_hat)\n",
    "mt = matrice_confusion(Y_test, Y_test_hat)\n",
    "\n",
    "print(\"Taux de bonne classification: {}\".format(np.where(Y_test == Y_test_hat, 1, 0).mean()))\n",
    "\n",
    "plt.figure()\n",
    "plt.imshow(ma)\n",
    "plt.figure()\n",
    "plt.imshow(mt)"
   ]
  },
  {
   "cell_type": "markdown",
   "metadata": {},
   "source": [
    "# D. Maximum a posteriori\n",
    "\n",
    "Etant donné les distributions non uniformes de classes observées sur le jeu de donnée:\n",
    "\n",
    "<img src=\"distr_classes.png\" title=\"Distribution des classes\">\n",
    "\n",
    "Calculer les maxima a posteriori avec les différentes modélisations et vérifier s'il y a un gain en performance avec cette modélisation."
   ]
  },
  {
   "cell_type": "code",
   "execution_count": null,
   "metadata": {},
   "outputs": [],
   "source": [
    "# récupération des probabilités a priori sur les données d'apprentissage:\n",
    "p= np.histogram(Y_train, np.linspace(-0.5,9.5,11))\n",
    "p = p[0] / p[0].sum()\n",
    "print(p)"
   ]
  },
  {
   "cell_type": "markdown",
   "metadata": {},
   "source": [
    "# E. Fusion de modèle\n",
    "\n",
    "Réussirez-vous à fusionner les sorties des modèles précédents pour améliorer la performance globale en test?\n",
    "* En faisant voter les classifieurs\n",
    "* En pondérant ces votes par leurs performances en apprentissage\n",
    "* En fusionnant les vraisemblances"
   ]
  },
  {
   "cell_type": "code",
   "execution_count": null,
   "metadata": {},
   "outputs": [],
   "source": []
  },
  {
   "cell_type": "markdown",
   "metadata": {},
   "source": [
    "# F. Proposer une modélisation en 16 niveaux de gris basées sur une loi multinomiale"
   ]
  },
  {
   "cell_type": "markdown",
   "metadata": {},
   "source": []
  }
 ],
 "metadata": {
  "kernelspec": {
   "display_name": "Python 3",
   "language": "python",
   "name": "python3"
  },
  "language_info": {
   "codemirror_mode": {
    "name": "ipython",
    "version": 3
   },
   "file_extension": ".py",
   "mimetype": "text/x-python",
   "name": "python",
   "nbconvert_exporter": "python",
   "pygments_lexer": "ipython3",
   "version": "3.8.3"
  }
 },
 "nbformat": 4,
 "nbformat_minor": 4
}
