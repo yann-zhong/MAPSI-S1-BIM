{
 "cells": [
  {
   "cell_type": "markdown",
   "metadata": {},
   "source": [
    "# TME sur la classification de lettres manuscrites\n",
    "## Format des données\n",
    "Nous travaillerons sur des lettres manuscrites.\n",
    "Les données sont fournies au format pickle (le standard de sérialisation python, particulièrement convivial). Pour les charger : "
   ]
  },
  {
   "cell_type": "code",
   "execution_count": 1,
   "metadata": {},
   "outputs": [],
   "source": [
    "import numpy as np\n",
    "import pickle as pkl\n",
    "import matplotlib.pyplot as plt\n",
    "\n",
    "with open('ressources/lettres.pkl', 'rb') as f:\n",
    "    data = pkl.load(f, encoding='latin1') \n",
    "X = np.array(data.get('letters')) # récupération des données sur les lettres\n",
    "Y = np.array(data.get('labels')) # récupération des étiquettes associées "
   ]
  },
  {
   "cell_type": "markdown",
   "metadata": {},
   "source": [
    "Les données sont dans un format original: une lettre est en fait une série d'angles (exprimés en degrés). Un exemple: "
   ]
  },
  {
   "cell_type": "code",
   "execution_count": 16,
   "metadata": {},
   "outputs": [
    {
     "data": {
      "text/plain": [
       "array([ 36.214493, 347.719116, 322.088898, 312.230957, 314.851013,\n",
       "       315.487213, 313.556702, 326.534973, 141.288971, 167.606689,\n",
       "       199.321594, 217.911087, 226.443298, 235.002472, 252.354492,\n",
       "       270.045654, 291.665161, 350.934723,  17.892815,  20.281025,\n",
       "        28.207161,  43.883423,  53.459026])"
      ]
     },
     "execution_count": 16,
     "metadata": {},
     "output_type": "execute_result"
    }
   ],
   "source": [
    "X[0]"
   ]
  },
  {
   "cell_type": "markdown",
   "metadata": {},
   "source": [
    "Lors de l'acquisition, un stylo intelligent a pris des mesures régulièrement dans le temps: chaque période correspond à un segment de droite et le stylo a calculé l'angle entre deux segments consécutifs... C'est l'information qui vous est fournie.\n",
    "\n",
    "Pour afficher une lettre, il faut reconstruire la trajectoire enregistrée... C'est ce que fait la méthode ci-dessous: "
   ]
  },
  {
   "cell_type": "code",
   "execution_count": 3,
   "metadata": {},
   "outputs": [],
   "source": [
    "# affichage d'une lettre\n",
    "def tracerLettre(let):\n",
    "    a = -let*np.pi/180; # conversion en rad\n",
    "    coord = np.array([[0, 0]]); # point initial\n",
    "    for i in range(len(a)):\n",
    "        x = np.array([[1, 0]]);\n",
    "        rot = np.array([[np.cos(a[i]), -np.sin(a[i])],[ np.sin(a[i]),np.cos(a[i])]])\n",
    "        xr = x.dot(rot) # application de la rotation\n",
    "        coord = np.vstack((coord,xr+coord[-1,:]))\n",
    "    plt.figure()\n",
    "    plt.plot(coord[:,0],coord[:,1])\n",
    "    #plt.savefig(\"exlettre.png\")\n",
    "    return"
   ]
  },
  {
   "cell_type": "code",
   "execution_count": 66,
   "metadata": {},
   "outputs": [
    {
     "name": "stdout",
     "output_type": "stream",
     "text": [
      "w\n"
     ]
    },
    {
     "data": {
      "image/png": "[encoded data removed]",
      "text/plain": [
       "<Figure size 432x288 with 1 Axes>"
      ]
     },
     "metadata": {
      "needs_background": "light"
     },
     "output_type": "display_data"
    }
   ],
   "source": [
    "# il s'agit d'un 'a'\n",
    "tracerLettre(X[230])\n",
    "print(Y[230]) # vérification de l'étiquette"
   ]
  },
  {
   "cell_type": "code",
   "execution_count": 67,
   "metadata": {},
   "outputs": [
    {
     "name": "stdout",
     "output_type": "stream",
     "text": [
      "268\n",
      "[ 36.214493 347.719116 322.088898 312.230957 314.851013 315.487213\n",
      " 313.556702 326.534973 141.288971 167.606689 199.321594 217.911087\n",
      " 226.443298 235.002472 252.354492 270.045654 291.665161 350.934723\n",
      "  17.892815  20.281025  28.207161  43.883423  53.459026]\n"
     ]
    }
   ],
   "source": [
    "print(len(X))\n",
    "# there are 268 letters drawn from the entire alphabet\n",
    "print(X[0])"
   ]
  },
  {
   "cell_type": "markdown",
   "metadata": {},
   "source": [
    "## A. Apprentissage d'un modèle CM (max de vraisemblance)\n",
    "### A1. Discrétisation\n",
    "\n",
    "**1 état = 1 angle**\n",
    "\n",
    "Il est nécessaire de regrouper les angles en un nombre fini d'états (par exemple 20)\n",
    "- définir un `intervalle = 360 / n_etats` (18° si on choisit 20 états)\n",
    "- discrétiser tous les signaux à l'aide de la formule `np.floor(x / intervalle)`\n",
    "    - si n_etats = 20 alors [0, 18[ => 0, [18, 36[ => 1, etc...\n",
    "\n",
    "Donner le code de la méthode `discretise(x, d)` qui prend la base des signaux et retourne une base de signaux discrétisés."
   ]
  },
  {
   "cell_type": "code",
   "execution_count": 27,
   "metadata": {},
   "outputs": [],
   "source": [
    "def discretise(x, d):\n",
    "    intervalle = 360/d # discrétiser par un nombre intervalle d'états\n",
    "    base_signaux = x/intervalle\n",
    "    b_dis = np.copy(base_signaux) # copy the dimensions of the array\n",
    "    # as they don't have the same array dimensions\n",
    "    \n",
    "    for n in range(len(b_dis)):\n",
    "        b_dis[n] = np.floor(b_dis[n])\n",
    "    \n",
    "    return b_dis"
   ]
  },
  {
   "cell_type": "code",
   "execution_count": 68,
   "metadata": {},
   "outputs": [
    {
     "name": "stdout",
     "output_type": "stream",
     "text": [
      "[0. 2. 2. 2. 2. 2. 2. 2. 1. 1. 1. 1. 1. 1. 2. 2. 2. 2. 0. 0. 0. 0. 0.]\n"
     ]
    }
   ],
   "source": [
    "test = discretise(X,3)\n",
    "print(test[0])"
   ]
  },
  {
   "cell_type": "markdown",
   "metadata": {},
   "source": [
    "**VALIDATION :** code du premier signal avec une discrétisation sur 3 états:\n",
    "```python\n",
    "array([ 0.,  2.,  2.,  2.,  2.,  2.,  2.,  2.,  1.,  1.,  1.,  1., 1., 1., 2., 2.,  2.,\n",
    "       2.,  0.,  0.,  0.,  0.,  0.])\n",
    "```"
   ]
  },
  {
   "cell_type": "markdown",
   "metadata": {},
   "source": [
    "### A2. Regrouper les indices des signaux par classe (pour faciliter l'apprentissage)"
   ]
  },
  {
   "cell_type": "code",
   "execution_count": 11,
   "metadata": {},
   "outputs": [],
   "source": [
    "def groupByLabel(y):\n",
    "    index = []\n",
    "    for i in np.unique(y): # pour toutes les classes\n",
    "        ind, = np.where(y == i)\n",
    "        index.append(ind)\n",
    "    return index"
   ]
  },
  {
   "cell_type": "markdown",
   "metadata": {},
   "source": [
    "Cette méthode produit simplement une structure type:\n",
    "```python\n",
    "[array([ 0,  1,  2,  3,  4,  5,  6,  7,  8,  9, 10]),\n",
    " array([11, 12, 13, 14, 15, 16, 17, 18, 19, 20, 21]),\n",
    " array([22, 23, 24, 25, 26, 27, 28, 29, 30, 31, 32]),\n",
    " array([33, 34, 35, 36, 37, 38, 39, 40, 41, 42, 43]),\n",
    " array([44, 45, 46, 47, 48, 49, 50, 51, 52, 53, 54]),\n",
    " array([55, 56, 57, 58, 59, 60, 61, 62, 63, 64, 65]),\n",
    " ...\n",
    "```\n",
    "Chaque ligne regroupe les indices de signaux correspondant à une classe. Il y a donc 11 exemples de 'a'."
   ]
  },
  {
   "cell_type": "markdown",
   "metadata": {},
   "source": [
    "### A3. Apprendre les modèles CM\n",
    "\n",
    "Soit {$X_C$} la base de signaux discrétisés correspondant à une classe {$C$} et {$d$} le nombre d'états. Donner le code de la fonction `learnMarkovModel(Xc, d)` qui retourne un tuple contenant Pi et A.\n",
    "\n",
    "Rappel:\n",
    "- Initialisation de \n",
    "```python\n",
    " A = np.zeros((d, d))\n",
    " Pi = np.zeros(d)```\n",
    "- Parcours de tous les signaux et incréments de A et Pi\n",
    "- Normalisation (un peu réfléchie pour éviter les divisions par 0)\n",
    "```python\n",
    "A = A / np.maximum(A.sum(1).reshape(d, 1), 1) # normalisation\n",
    "Pi = Pi / Pi.sum()```\n",
    "\n",
    "**Note** : la solution proposée pour gérer le cas des lignes entièrement à 0 est naïve et n'est pas totalement satisfaisante. Comprendre pourquoi. On proposera une solution améliorée plus loin dans le TME. "
   ]
  },
  {
   "cell_type": "code",
   "execution_count": 81,
   "metadata": {},
   "outputs": [],
   "source": [
    "def learnMarkovModel(Xc, d):\n",
    "    \n",
    "    Pi = np.zeros(d)    # initialisation pi, qui est la matrice des \"probas\" initiale\n",
    "    A = np.zeros((d,d)) # intialisation de la matrice des transitions de dimension d fois d (d étant nombre d'états)\n",
    "    \n",
    "    for n in range(len(Xc)):       # for every different drawing of the letter we're looking at\n",
    "        letter = Xc[n]             # get discretized letter angles for that specific drawing\n",
    "        Pi[int(letter[0])] += 1    # add 1 to starting angle for \"initial\" pi matrix of that drawing\n",
    "        \n",
    "        for m in range(len(letter)-1): # loop through the entire drawing of that letter\n",
    "            now = int(letter[m])   # current state (angle)\n",
    "            tmr = int(letter[m+1]) # next state (angle)\n",
    "            A[now][tmr] += 1       # increment corresponding transition dimension\n",
    "            \n",
    "    # current values are not normalised and are in whole round numbers.\n",
    "    A = A / np.maximum(A.sum(1).reshape(d, 1), 1) # normalisation to get values under 1\n",
    "    Pi = Pi / Pi.sum()                            # same here\n",
    "    \n",
    "    # non normalized values for X[0]:\n",
    "    # [4., 0., 7.] for pi\n",
    "    # [ 38.,   3.,   4.],\n",
    "    # [  0.,  55.,  11.],\n",
    "    # [ 14.,   8., 101.] for A\n",
    "    \n",
    "    return Pi, A"
   ]
  },
  {
   "cell_type": "code",
   "execution_count": 93,
   "metadata": {},
   "outputs": [
    {
     "name": "stdout",
     "output_type": "stream",
     "text": [
      "[0.36363636 0.         0.63636364]\n",
      "[[0.84444444 0.06666667 0.08888889]\n",
      " [0.         0.83333333 0.16666667]\n",
      " [0.11382114 0.06504065 0.82113821]]\n"
     ]
    }
   ],
   "source": [
    "Xd = discretise(X,3)\n",
    "index = groupByLabel(Y)\n",
    "\n",
    "# print(Xd[index[0]]) # prints all the angles associated to the letter 'a'\n",
    "\n",
    "Pi, A = learnMarkovModel(Xd[index[0]], 3)\n",
    "\n",
    "print(Pi)\n",
    "print(A)"
   ]
  },
  {
   "cell_type": "code",
   "execution_count": 161,
   "metadata": {},
   "outputs": [
    {
     "name": "stdout",
     "output_type": "stream",
     "text": [
      "0\n",
      "[0. 2. 2. 2. 2. 2. 2. 2. 1. 1. 1. 1. 1. 1. 2. 2. 2. 2. 0. 0. 0. 0. 0.]\n",
      "1\n",
      "[2. 2. 2. 2. 2. 2. 2. 1. 1. 1. 1. 1. 1. 1. 2. 2. 2. 2. 2. 0. 0.]\n",
      "2\n",
      "[2. 2. 2. 2. 2. 2. 2. 2. 1. 1. 1. 1. 1. 1. 2. 2. 2. 2. 0. 0. 0. 0. 0.]\n",
      "3\n",
      "[2. 2. 2. 2. 2. 0. 0. 1. 1. 1. 1. 2. 2. 2. 2. 2. 0. 0. 0. 0.]\n",
      "4\n",
      "[0. 2. 2. 2. 2. 2. 2. 1. 1. 1. 1. 1. 1. 2. 2. 2. 2. 0. 0. 0. 0. 0. 0.]\n",
      "5\n",
      "[2. 2. 2. 2. 2. 2. 2. 0. 1. 1. 1. 1. 2. 2. 2. 2. 2. 0. 0. 0. 0. 0. 0.]\n",
      "6\n",
      "[2. 2. 2. 2. 2. 2. 2. 1. 1. 1. 1. 1. 1. 1. 2. 2. 2. 2. 0. 0. 0. 0.]\n",
      "7\n",
      "[0. 2. 2. 2. 2. 2. 2. 2. 1. 1. 1. 1. 1. 1. 1. 1. 2. 2. 2. 2. 2. 0. 0. 0.]\n",
      "8\n",
      "[2. 2. 2. 2. 2. 2. 2. 1. 1. 1. 1. 2. 2. 2. 2. 0. 0. 0. 0.]\n",
      "9\n",
      "[2. 2. 2. 2. 2. 2. 2. 2. 0. 0. 1. 1. 1. 1. 1. 1. 2. 2. 2. 2. 0. 0.]\n",
      "10\n",
      "[0. 2. 2. 2. 2. 2. 2. 2. 1. 1. 1. 1. 1. 1. 1. 1. 2. 2. 2. 0. 0. 0. 0. 0.\n",
      " 0.]\n"
     ]
    }
   ],
   "source": [
    "for n in range(len(Xd[index[0]])):\n",
    "    letter = Xd[n]\n",
    "    print(int(n))\n",
    "    print(letter)"
   ]
  },
  {
   "cell_type": "markdown",
   "metadata": {},
   "source": [
    "**Validation :** premier modèle avec une discrétisation sur 3 états :\n",
    "```python\n",
    "(array([ 0.36363636,  0.        ,  0.63636364]),\n",
    " array([[ 0.84444444,  0.06666667,  0.08888889],\n",
    "       [ 0.        ,  0.83333333,  0.16666667],\n",
    "       [ 0.11382114,  0.06504065,  0.82113821]]))\n",
    "```"
   ]
  },
  {
   "cell_type": "markdown",
   "metadata": {},
   "source": [
    "### A4. Stocker les modèles dans une liste\n",
    "\n",
    "Pour un usage ultérieur plus facile, on utilise le code suivant :"
   ]
  },
  {
   "cell_type": "code",
   "execution_count": 133,
   "metadata": {},
   "outputs": [],
   "source": [
    "d = 20                   # paramètre de discrétisation\n",
    "Xd = discretise(X, d)    # application de la discrétisation\n",
    "index = groupByLabel(Y)  # groupement des signaux par classe\n",
    "models = []\n",
    "for cl in range(len(np.unique(Y))): # parcours de toutes les classes et optimisation des modèles\n",
    "    models.append(learnMarkovModel(Xd[index[cl]], d))\n",
    "# every single number Markov model is stored in models"
   ]
  },
  {
   "cell_type": "markdown",
   "metadata": {},
   "source": [
    "### A5. Distribution stationnaire\n",
    "\n",
    "La distribution stationnaire $\\mu$, pour un système ergodique, correspond à:\n",
    "\n",
    "- la distribution des états observés dans l'ensemble des données\n",
    "- la distribution obtenu après un grand nombre de passage dans $A$ à partir de n'importe quelle distribution ou état d'origine (une matrice de transition ergodique va nous permettre de converger)\n",
    "- la solution de l'équation de stabilité: $\\mu = \\mu A$\n",
    "\n",
    "Dans le cas de la lettre 'a' et d'une discrétisation en 3 états, calculer la distribution stationnaire par les deux première méthode et vérifier que vous obtenez des résultats similaires.\n",
    "\n",
    "**Note:** pour la marche aléatoire, vous construirez une boucle sur 100 iérations (borne sup) et vous sortirez dès que la somme des écarts (en absolu) entre $\\mu_t$ et $\\mu_{t+1}$ est inférieure à $10^{-3}$. Vous vérifierez ensuite que le système converge quelque soit l'état de départ (3 appel àla fonction) ou avec une initialisation aléatoire."
   ]
  },
  {
   "cell_type": "code",
   "execution_count": 87,
   "metadata": {},
   "outputs": [],
   "source": [
    "def stat_distr1(Pi, A): # to do\n",
    "    \n",
    "    pass\n",
    "    \n",
    "    return"
   ]
  },
  {
   "cell_type": "code",
   "execution_count": 124,
   "metadata": {},
   "outputs": [
    {
     "name": "stdout",
     "output_type": "stream",
     "text": [
      "[0.2590908  0.32631825 0.41459096]\n"
     ]
    }
   ],
   "source": [
    "### test stationnaire 1 => version to verify \n",
    "d = 3                    # paramètre de discrétisation\n",
    "Xd = discretise(X, d)    # application de la discrétisation\n",
    "cpt=np.zeros(d)\n",
    "\n",
    "for i in Xd[index[0]] :\n",
    "    cpt_temp=np.zeros(d)\n",
    "    for j in i[4:] :\n",
    "        cpt_temp[int(j)]+=1\n",
    "    cpt+=cpt_temp/cpt_temp.sum()\n",
    "\n",
    "print(cpt/cpt.sum())"
   ]
  },
  {
   "cell_type": "code",
   "execution_count": 126,
   "metadata": {},
   "outputs": [],
   "source": [
    "def stat_distr2(Pi, A):\n",
    "    \n",
    "    mu_now = Pi\n",
    "    steps = 100\n",
    "    \n",
    "    for n in range(steps):\n",
    "        mu_next = np.dot(mu_now, A) # get the next state\n",
    "        \n",
    "        mu_diff = mu_now - mu_next  # take difference of next state relative to current state \n",
    "        # print(mu_diff)\n",
    "        if abs(mu_diff[0]) < 0.001 and abs(mu_diff[1]) < 0.001 and abs(mu_diff[2]) < 0.001:\n",
    "            break                   \n",
    "            # if the absolute value of the difference is sufficiently small for all states\n",
    "            # we can say that we've reached steady state\n",
    "    \n",
    "        mu_now = mu_next            # for the next loop\n",
    "        \n",
    "    return mu_now # current state"
   ]
  },
  {
   "cell_type": "code",
   "execution_count": 127,
   "metadata": {},
   "outputs": [
    {
     "name": "stdout",
     "output_type": "stream",
     "text": [
      "[0.30759021 0.28047282 0.41193697]\n"
     ]
    }
   ],
   "source": [
    "steady_state = stat_distr2(Pi,A)\n",
    "print(steady_state)"
   ]
  },
  {
   "cell_type": "markdown",
   "metadata": {},
   "source": [
    "##  B. Test (affectation dans les classes sur critère MV)\n",
    "### B1. (log)Probabilité d'une séquence dans un modèle\n",
    "\n",
    "Donner le code de la méthode `probaSequence(s,Pi,A)` qui retourne la log-probabilité d'une séquence `s` dans le modèle {$\\lambda=\\{Pi,A\\}$} "
   ]
  },
  {
   "cell_type": "code",
   "execution_count": 139,
   "metadata": {},
   "outputs": [],
   "source": [
    "def probaSequence(s, Pi, A):\n",
    "    L = Pi[int(s[0])] # apriori \n",
    "    \n",
    "    for i in range(1,len(s)):\n",
    "        L = L * A[int(s[i-1])][int(s[i])] # fetch the corresponding probabilities and multiply\n",
    "        # given hypothesis of independance, we can say likelihood is product of probabilities\n",
    "    return np.log(L)"
   ]
  },
  {
   "cell_type": "code",
   "execution_count": 155,
   "metadata": {},
   "outputs": [
    {
     "name": "stdout",
     "output_type": "stream",
     "text": [
      "[-13.491086           -inf         -inf         -inf         -inf\n",
      "         -inf         -inf         -inf         -inf         -inf\n",
      "         -inf         -inf         -inf         -inf         -inf\n",
      "         -inf         -inf         -inf         -inf         -inf\n",
      "         -inf         -inf         -inf         -inf         -inf\n",
      " -12.48285678]\n"
     ]
    },
    {
     "name": "stderr",
     "output_type": "stream",
     "text": [
      "<ipython-input-139-24b3ec790f48>:6: RuntimeWarning: divide by zero encountered in log\n",
      "  return np.log(L)\n"
     ]
    }
   ],
   "source": [
    "d = 3                    # paramètre de discrétisation; changer pour faire 3 dim au lieu de 20 comme dans exemple\n",
    "Xd = discretise(X, d)    # application de la discrétisation\n",
    "index = groupByLabel(Y)  # groupement des signaux par classe\n",
    "models = []\n",
    "for cl in range(len(np.unique(Y))): # parcours de toutes les classes et optimisation des modèles\n",
    "    models.append(learnMarkovModel(Xd[index[cl]], d))\n",
    "\n",
    "likelihood = np.zeros(len(models))\n",
    "for n in range (len(models)):\n",
    "    likelihood[n] = probaSequence(Xd[0],models[n][0],models[n][1])\n",
    "print(likelihood)"
   ]
  },
  {
   "cell_type": "code",
   "execution_count": 152,
   "metadata": {},
   "outputs": [
    {
     "name": "stdout",
     "output_type": "stream",
     "text": [
      "[-27.99336982         -inf         -inf         -inf         -inf\n",
      "         -inf         -inf         -inf         -inf         -inf\n",
      "         -inf         -inf         -inf         -inf         -inf\n",
      "         -inf         -inf         -inf         -inf         -inf\n",
      "         -inf         -inf         -inf         -inf         -inf\n",
      "         -inf]\n"
     ]
    },
    {
     "name": "stderr",
     "output_type": "stream",
     "text": [
      "<ipython-input-139-24b3ec790f48>:6: RuntimeWarning: divide by zero encountered in log\n",
      "  return np.log(L)\n"
     ]
    }
   ],
   "source": [
    "d = 20                   # paramètre de discrétisation; changer pour faire 3 dim au lieu de 20 comme dans exemple\n",
    "Xd = discretise(X, d)    # application de la discrétisation\n",
    "index = groupByLabel(Y)  # groupement des signaux par classe\n",
    "models = []\n",
    "for cl in range(len(np.unique(Y))): # parcours de toutes les classes et optimisation des modèles\n",
    "    models.append(learnMarkovModel(Xd[index[cl]], d))\n",
    "\n",
    "likelihood = np.zeros(len(models))\n",
    "for n in range (len(models)):\n",
    "    likelihood[n] = probaSequence(Xd[0],models[n][0],models[n][1])\n",
    "print(likelihood)"
   ]
  },
  {
   "cell_type": "markdown",
   "metadata": {},
   "source": [
    "**VALIDATION :** probabilité du premier signal dans les 26 modèles avec une discrétisation sur 3 états :\n",
    "```python\n",
    "array([-13.491086  ,         -inf,         -inf,         -inf,\n",
    "               -inf,         -inf,         -inf,         -inf,\n",
    "               -inf,         -inf,         -inf,         -inf,\n",
    "               -inf,         -inf,         -inf,         -inf,\n",
    "               -inf,         -inf,         -inf,         -inf,\n",
    "               -inf,         -inf,         -inf,         -inf,\n",
    "               -inf, -12.48285678])\n",
    "```\n",
    "\n",
    "- Ce signal est-il bien classé ?\n",
    "- D'où viennent tous les `-inf` ? "
   ]
  },
  {
   "cell_type": "markdown",
   "metadata": {},
   "source": [
    "### B2. Application de la méthode précédente pour tous les signaux et tous les modèles de lettres\n",
    "\n",
    "L'application se fait en une ligne de code si vous avez respecté les spécifications précédentes : "
   ]
  },
  {
   "cell_type": "code",
   "execution_count": 156,
   "metadata": {},
   "outputs": [
    {
     "name": "stderr",
     "output_type": "stream",
     "text": [
      "<ipython-input-139-24b3ec790f48>:6: RuntimeWarning: divide by zero encountered in log\n",
      "  return np.log(L)\n"
     ]
    }
   ],
   "source": [
    "proba = np.array([[probaSequence(Xd[i], models[cl][0], models[cl][1]) for i in range(len(Xd))]\n",
    "                  for cl in range(len(np.unique(Y)))])"
   ]
  },
  {
   "cell_type": "markdown",
   "metadata": {},
   "source": [
    "### B3. Evaluation des performances\n",
    "\n",
    "Pour l'évaluation, nous proposons l'approche suivante: "
   ]
  },
  {
   "cell_type": "code",
   "execution_count": 157,
   "metadata": {},
   "outputs": [
    {
     "name": "stdout",
     "output_type": "stream",
     "text": [
      "Pourcentage de bonne classification avec d = 3 : 0.6902985074626866\n"
     ]
    }
   ],
   "source": [
    "# calcul d'une version numérique des Y :\n",
    "Ynum = np.zeros(Y.shape)\n",
    "for num, char in enumerate(np.unique(Y)):\n",
    "    Ynum[Y == char] = num\n",
    "    \n",
    "# Calcul de la classe la plus probable :\n",
    "pred = proba.argmax(0) # max colonne par colonne\n",
    "\n",
    "# Calcul d'un pourcentage de bonne classification :\n",
    "perf = np.where(pred != Ynum, 0.,1.).mean()\n",
    "print(\"Pourcentage de bonne classification avec d =\", d, \":\", perf)"
   ]
  },
  {
   "cell_type": "code",
   "execution_count": 154,
   "metadata": {},
   "outputs": [
    {
     "name": "stdout",
     "output_type": "stream",
     "text": [
      "Pourcentage de bonne classification avec d = 20 : 0.914179104477612\n"
     ]
    }
   ],
   "source": [
    "# calcul d'une version numérique des Y :\n",
    "Ynum = np.zeros(Y.shape)\n",
    "for num, char in enumerate(np.unique(Y)):\n",
    "    Ynum[Y == char] = num\n",
    "    \n",
    "# Calcul de la classe la plus probable :\n",
    "pred = proba.argmax(0) # max colonne par colonne\n",
    "\n",
    "# Calcul d'un pourcentage de bonne classification :\n",
    "perf = np.where(pred != Ynum, 0.,1.).mean()\n",
    "print(\"Pourcentage de bonne classification avec d =\", d, \":\", perf)"
   ]
  },
  {
   "cell_type": "markdown",
   "metadata": {},
   "source": [
    "**INDICE DE PERFORMANCE :** 91% de bonne classification avec 20 états, 69% avec 3 états"
   ]
  },
  {
   "cell_type": "markdown",
   "metadata": {},
   "source": [
    "## C. Biais d'évaluation, notion de sur-apprentissage\n",
    "\n",
    "Dans le protocole précédent, nous avons triché:\n",
    "- les données servent d'abord à apprendre les modèles...\n",
    "- puis nous nous servons des mêmes données pour tester les modèles ! Les performances sont forcément bonnes ! \n",
    "\n",
    "Afin de palier le problème, nous allons diviser en deux la base de données: une partie servira à l'apprentissage des modèles, l'autre à leur évaluation. Pour effectuer la division, nous fournissons le code suivant: "
   ]
  },
  {
   "cell_type": "code",
   "execution_count": 158,
   "metadata": {},
   "outputs": [],
   "source": [
    "# separation app/test, pc=ratio de points en apprentissage\n",
    "def separeTrainTest(y, pc):\n",
    "    indTrain = []\n",
    "    indTest = []\n",
    "    for i in np.unique(y): # pour toutes les classes\n",
    "        ind, = np.where(y == i)\n",
    "        n = len(ind)\n",
    "        indTrain.append(ind[np.random.permutation(n)][:int(np.floor(pc * n))])\n",
    "        indTest.append(np.setdiff1d(ind, indTrain[-1]))\n",
    "    return indTrain, indTest\n",
    "\n",
    "# exemple d'utilisation\n",
    "itrain, itest = separeTrainTest(Y, 0.8)"
   ]
  },
  {
   "cell_type": "markdown",
   "metadata": {},
   "source": [
    "dans `itrain`, nous obtenons les indices des signaux qui doivent servir en apprentissage pour chaque classe :"
   ]
  },
  {
   "cell_type": "code",
   "execution_count": 159,
   "metadata": {},
   "outputs": [
    {
     "data": {
      "text/plain": [
       "[array([10,  3,  1,  2,  0,  9,  7,  8], dtype=int64),\n",
       " array([20, 19, 21, 13, 14, 15, 12, 11], dtype=int64),\n",
       " array([26, 32, 25, 23, 30, 22, 28, 31], dtype=int64),\n",
       " array([40, 41, 43, 34, 33, 39, 42, 38], dtype=int64),\n",
       " array([45, 47, 52, 48, 51, 46, 50, 49], dtype=int64),\n",
       " array([59, 61, 64, 57, 62, 58, 63, 60], dtype=int64),\n",
       " array([66, 74, 75, 68, 76, 71, 73, 67], dtype=int64),\n",
       " array([77, 86, 85, 79, 80, 84, 87, 81], dtype=int64),\n",
       " array([97, 92, 89, 94, 93, 96, 88, 91], dtype=int64),\n",
       " array([101,  98, 105,  99, 102, 107, 106, 103], dtype=int64),\n",
       " array([112, 117, 109, 110, 108, 111, 116, 114], dtype=int64),\n",
       " array([124, 126, 121, 127, 119, 118, 123, 120], dtype=int64),\n",
       " array([130, 133, 135, 137, 128, 131, 132, 134], dtype=int64),\n",
       " array([140, 142, 141, 147, 144, 139, 146, 138], dtype=int64),\n",
       " array([157, 156, 148, 152, 153, 151, 149, 154], dtype=int64),\n",
       " array([159, 160, 158, 164, 161, 167, 166, 165], dtype=int64),\n",
       " array([174, 171, 169, 170, 175, 172, 168, 177], dtype=int64),\n",
       " array([185, 184, 181, 180, 179, 186, 187, 183], dtype=int64),\n",
       " array([189, 192, 194, 191, 188, 197, 195, 190], dtype=int64),\n",
       " array([206, 205, 199, 201, 204, 207, 203, 202], dtype=int64),\n",
       " array([215, 210, 214, 209, 211, 208, 217, 216], dtype=int64),\n",
       " array([226, 219, 225, 223, 220, 218, 222, 224], dtype=int64),\n",
       " array([236, 232, 231, 228, 237, 233, 229, 230], dtype=int64),\n",
       " array([247, 244, 245, 238, 240, 241, 246, 239], dtype=int64),\n",
       " array([256, 253, 251, 257, 255, 252, 250, 248], dtype=int64),\n",
       " array([259, 266, 260, 258, 263, 267, 264, 262], dtype=int64)]"
      ]
     },
     "execution_count": 159,
     "metadata": {},
     "output_type": "execute_result"
    }
   ],
   "source": [
    "itrain"
   ]
  },
  {
   "cell_type": "markdown",
   "metadata": {},
   "source": [
    "**Note :** pour faciliter l'évaluation des modèles, vous aurez besoin de re-fusionner tous les indices d'apprentissage et de test. Cela se fait avec les lignes de code suivantes : "
   ]
  },
  {
   "cell_type": "code",
   "execution_count": 160,
   "metadata": {},
   "outputs": [],
   "source": [
    "ia = []\n",
    "for i in itrain:\n",
    "    ia += i.tolist()    \n",
    "it = []\n",
    "for i in itest:\n",
    "    it += i.tolist()"
   ]
  },
  {
   "cell_type": "markdown",
   "metadata": {},
   "source": [
    "**Note 2 :** Du fait de la permutation aléatoire, les résultats vont bouger (un peu) à chaque execution du programme. "
   ]
  },
  {
   "cell_type": "markdown",
   "metadata": {},
   "source": [
    "### C1. Questions importantes\n",
    "- Ré-utiliser les fonctions précédemment définies pour apprendre des modèles et les évaluer sans biais.\n",
    "- Calculer et analyser les résultats obtenus en apprentissage et en test\n",
    "- Etudier l'évolution des performances en fonction de la discrétisation"
   ]
  },
  {
   "cell_type": "code",
   "execution_count": null,
   "metadata": {},
   "outputs": [],
   "source": [
    "# Votre code"
   ]
  },
  {
   "cell_type": "markdown",
   "metadata": {},
   "source": [
    "### C2. Lutter contre le sur-apprentissage\n",
    "Cette base de données met en lumière le phénomène de sur-apprentissage : il y a peu de données et dès que le nombre d'états augmente, il y a trop peu d'exemple pour estimer correctement les matrices {$A, \\pi$}. De nombreuses cases sont donc à 0, voire des lignes entières (d'où la sécurisation du code pour la normalisation des matrices stochastiques).\n",
    "\n",
    "Ces 0 sont particulièrement discriminants: considérant la classe {$c$}, ils permettent d'éliminer de cette classe tout signal présentant cette caractéristique. Cette règle est trop forte compte tenu de la taille de la base d'apprentissage. Nous proposons une astuce pour palier cette faiblesse : lors du comptage, initialiser les matrices {$A, \\pi$} avec ones au lieu de zeros . On fait semblant d'avoir observer une transition de chaque type avant même le début du comptage.\n",
    "\n",
    "Comparer les performances en test."
   ]
  },
  {
   "cell_type": "code",
   "execution_count": null,
   "metadata": {},
   "outputs": [],
   "source": [
    "# Votre code"
   ]
  },
  {
   "cell_type": "markdown",
   "metadata": {},
   "source": [
    "## D. Evaluation qualitative\n",
    "\n",
    "Nous nous demandons maintenant où se trouvent les erreurs que nous avons commises...\n",
    "\n",
    "Calcul de la matrice de confusion: pour chaque échantillon de test, nous avons une prédiction (issue du modèle) et une vérité terrain (la vraie étiquette). En posant Nc le nombre de classes, la matrice de confusion est une matrice (Nc x Nc) où nous comptons le nombre d'échantillon de test dans chaque catégorie :\n",
    "\n",
    "- Initialisation à 0 : "
   ]
  },
  {
   "cell_type": "code",
   "execution_count": null,
   "metadata": {},
   "outputs": [],
   "source": [
    "conf = np.zeros((26,26))"
   ]
  },
  {
   "cell_type": "markdown",
   "metadata": {},
   "source": [
    "- Pour chaque échantillon, incrément de la case (prediction, vérité)"
   ]
  },
  {
   "cell_type": "code",
   "execution_count": null,
   "metadata": {},
   "outputs": [],
   "source": [
    "# Votre code"
   ]
  },
  {
   "cell_type": "markdown",
   "metadata": {},
   "source": [
    "- Tracé de la matrice : "
   ]
  },
  {
   "cell_type": "code",
   "execution_count": null,
   "metadata": {},
   "outputs": [],
   "source": [
    "plt.figure()\n",
    "plt.imshow(conf, interpolation = 'nearest')\n",
    "plt.colorbar()\n",
    "plt.xticks(np.arange(26), np.unique(Y))\n",
    "plt.yticks(np.arange(26), np.unique(Y))\n",
    "plt.xlabel(u'Vérité terrain')\n",
    "plt.ylabel(u'Prédiction')\n",
    "#plt.savefig(\"mat_conf_lettres.png\")"
   ]
  },
  {
   "cell_type": "markdown",
   "metadata": {},
   "source": [
    "## E. Modèle génératif\n",
    "\n",
    "Utiliser les modèles appris pour générer de nouvelles lettres manuscrites.\n",
    "\n",
    "### E1. Tirage selon une loi de probabilité discrète\n",
    "\n",
    "- faire la somme cumulée de la loi {$sc$}\n",
    "- tirer un nombre aléatoire {$t$} entre 0 et 1\n",
    "- trouver la première valeur de {$sc$} qui est supérieure à {$t$}\n",
    "- retourner cet état \n",
    "\n",
    "**Note :** comme vu en cours, tout repose sur la somme cumulée (notée ici `sc$`, calculable en appelant `np.cumsum`. Sur un exemple: la loi `V = [0.2, 0.4, 0.3, 0.1]` a pour somme cumulée `V.cumsum() == [0.2,  0.6,  0.9,  1.0]`\n",
    "\n",
    "### E2. Génération d'une séquence de longueur N\n",
    "\n",
    "- tirer un état {$s_0$} selon Pi\n",
    "- tant que la longueur n'est pas atteinte :\n",
    "  - tirer un état {$s_{t+1}$} selon {$A[s_{t}]$} "
   ]
  },
  {
   "cell_type": "code",
   "execution_count": null,
   "metadata": {},
   "outputs": [],
   "source": [
    "# Votre code"
   ]
  },
  {
   "cell_type": "markdown",
   "metadata": {},
   "source": [
    "### E3. Affichage du résultat"
   ]
  },
  {
   "cell_type": "code",
   "execution_count": null,
   "metadata": {},
   "outputs": [],
   "source": [
    "newa = generate(models[0][0], models[0][1], 20)       # generation d'une séquence d'états\n",
    "intervalle = 360. / d                                 # pour passer des états => valeur d'angles\n",
    "newa_continu = np.array([i * intervalle for i in newa]) # conv int => double\n",
    "tracerLettre(newa_continu)"
   ]
  }
 ],
 "metadata": {
  "kernelspec": {
   "display_name": "Python 3",
   "language": "python",
   "name": "python3"
  },
  "language_info": {
   "codemirror_mode": {
    "name": "ipython",
    "version": 3
   },
   "file_extension": ".py",
   "mimetype": "text/x-python",
   "name": "python",
   "nbconvert_exporter": "python",
   "pygments_lexer": "ipython3",
   "version": "3.8.3"
  }
 },
 "nbformat": 4,
 "nbformat_minor": 4
}
